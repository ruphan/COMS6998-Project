{
 "cells": [
  {
   "cell_type": "code",
   "execution_count": null,
   "metadata": {},
   "outputs": [],
   "source": [
    "import os\n",
    "import numpy as np"
   ]
  },
  {
   "cell_type": "code",
   "execution_count": 2,
   "metadata": {},
   "outputs": [],
   "source": [
    "import pandas as pd"
   ]
  },
  {
   "cell_type": "code",
   "execution_count": 17,
   "metadata": {},
   "outputs": [],
   "source": [
    "if os.path.isdir(\"./final_res\") == False:\n",
    "    os.mkdir(\"./final_res\")"
   ]
  },
  {
   "cell_type": "code",
   "execution_count": 18,
   "metadata": {},
   "outputs": [],
   "source": [
    "path = \"results/\"\n",
    "\n",
    "epochs = 50\n",
    "for i in os.listdir(path):\n",
    "    df = pd.read_csv(os.path.join(path, i))\n",
    "    j = 1\n",
    "    entries = []\n",
    "    while j <= epochs:\n",
    "        value = []\n",
    "        value.append(j)\n",
    "        data = df.loc[df[\"Epoch\"] == j]\n",
    "        value.append(data[\"time/iters\"].mean() * 1000)\n",
    "        value.append(data[\"data/iters\"].mean() * 1000)\n",
    "        value.append(data[\"D_A\"].mean())\n",
    "        value.append(data[\"G_A\"].mean())\n",
    "        value.append(data[\"cycle_A\"].mean())\n",
    "        value.append(data[\"idt_A\"].mean())\n",
    "        value.append(data[\"D_B\"].mean())\n",
    "        value.append(data[\"G_B\"].mean())\n",
    "        value.append(data[\"cycle_B\"].mean())\n",
    "        value.append(data[\"idt_B\"].mean())\n",
    "        entries.append(value)\n",
    "        j += 1\n",
    "    entries = np.array(entries)\n",
    "    data_final = pd.DataFrame(entries, columns=['Epoch','time','data_time','D_A','G_A','cycle_A','idt_A','D_B','G_B','cycle_B','idt_B'])\n",
    "    data_final.to_csv(os.path.join(\"./final_res\", i), index=False)\n",
    "\n",
    "    \n",
    "\n"
   ]
  }
 ],
 "metadata": {
  "interpreter": {
   "hash": "62433782b5f66fd0a3fea9b6dd06be7edc60133eea66f87a3bab697c8b5b8fe5"
  },
  "kernelspec": {
   "display_name": "Python 3.9.7 64-bit",
   "language": "python",
   "name": "python3"
  },
  "language_info": {
   "codemirror_mode": {
    "name": "ipython",
    "version": 3
   },
   "file_extension": ".py",
   "mimetype": "text/x-python",
   "name": "python",
   "nbconvert_exporter": "python",
   "pygments_lexer": "ipython3",
   "version": "3.9.7"
  },
  "orig_nbformat": 4
 },
 "nbformat": 4,
 "nbformat_minor": 2
}
