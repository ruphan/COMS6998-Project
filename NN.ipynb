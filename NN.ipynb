{
 "cells": [
  {
   "cell_type": "code",
   "execution_count": 39,
   "id": "03293659",
   "metadata": {},
   "outputs": [],
   "source": [
    "import torch\n",
    "import torch.nn as nn\n",
    "import torch.nn.functional as F\n",
    "import torch.optim as optim\n",
    "from torch.utils.data import Dataset, DataLoader\n",
    "import torchvision\n",
    "from torchvision import datasets, transforms\n",
    "import matplotlib.pyplot as plt\n",
    "import numpy as np\n",
    "import os\n",
    "import cv2\n",
    "import pandas as pd\n",
    "import glob"
   ]
  },
  {
   "cell_type": "code",
   "execution_count": 42,
   "id": "7496a760",
   "metadata": {},
   "outputs": [],
   "source": [
    "class PerformancePredictor(nn.Module):\n",
    "\n",
    "    def __init__(self):\n",
    "        super(PerformancePredictor, self).__init__()\n",
    "        self.out = nn.Linear(9,2)\n",
    "\n",
    "    def forward(self, x):\n",
    "        x = self.out(x)\n",
    "        return x"
   ]
  },
  {
   "cell_type": "code",
   "execution_count": 49,
   "id": "aca98966",
   "metadata": {
    "scrolled": false
   },
   "outputs": [
    {
     "name": "stdout",
     "output_type": "stream",
     "text": [
      "Using: cuda\n",
      "Epoch: 50\n",
      "NN Loss: 231.68875549316405\n",
      "Epoch: 100\n",
      "NN Loss: 59.20874016716367\n",
      "Epoch: 150\n",
      "NN Loss: 1.9653911322497186\n",
      "Epoch: 200\n",
      "NN Loss: 0.13746940249488468\n",
      "Epoch: 250\n",
      "NN Loss: 0.12001891029732568\n",
      "Epoch: 300\n",
      "NN Loss: 0.11417866997775578\n",
      "Epoch: 350\n",
      "NN Loss: 0.11297912879359154\n",
      "Epoch: 400\n",
      "NN Loss: 0.1112929102565561\n",
      "Epoch: 450\n",
      "NN Loss: 0.11163633592071988\n",
      "Epoch: 500\n",
      "NN Loss: 0.11030296183767772\n"
     ]
    }
   ],
   "source": [
    "latent_space = {'VKITTI':[-958.49698523, 695.48164506, -1084.16241455, 970.46093565],\n",
    "                'KITTI':[-1166.18798407, -1011.57989291, 566.2600466, 1178.45907698],\n",
    "                'Cityscapes':[-712.90806697, 689.07183134, 866.59906593, 1263.15702937],\n",
    "                'Synthia':[-251.38219667, 636.03292455, 415.35867623, 1196.09288925]}\n",
    "\n",
    "data_dir = 'Results/*csv'\n",
    "\n",
    "in_data = []\n",
    "out_data = []\n",
    "\n",
    "for data in glob.glob(data_dir):\n",
    "    nn_input = []\n",
    "    num_layers = data.split(\"_\")[-1].split(\".\")[0]\n",
    "    num_layers = int(num_layers)\n",
    "    in_dataset = data.split(\"_\")[1].split(\"-\")[0]\n",
    "    out_dataset = data.split(\"_\")[1].split(\"-\")[1]\n",
    "    nn_input.extend(latent_space[in_dataset])\n",
    "    nn_input.extend(latent_space[out_dataset])\n",
    "    nn_input.append(num_layers)\n",
    "    in_data.append(nn_input)\n",
    "    \n",
    "    csv_data = np.array(pd.read_csv(data,delimiter=','))\n",
    "    arr = csv_data[-1]\n",
    "    cycle = (arr[5]+arr[9])/2\n",
    "    idt = (arr[6]+arr[10])/2\n",
    "    out_data.append(np.array([cycle, idt]))\n",
    "\n",
    "use_cuda = torch.cuda.is_available()\n",
    "device = torch.device(\"cuda\" if use_cuda else \"cpu\")\n",
    "print('Using:', device)\n",
    "\n",
    "if use_cuda:\n",
    "    torch.cuda.empty_cache()\n",
    "\n",
    "epochs = 500\n",
    "log_interval = 50\n",
    "lr = 1e-4\n",
    "performance_predictor = PerformancePredictor().to(device).train()\n",
    "\n",
    "optimizer = optim.Adam(performance_predictor.parameters(), lr=lr, betas=(0.5, 0.999))\n",
    "\n",
    "L1 = nn.L1Loss().to(device)\n",
    "loss_nn = 0\n",
    "\n",
    "in_data = torch.tensor(in_data).to(device)\n",
    "out_data = torch.tensor(out_data).to(device)\n",
    "dataset_size = len(in_data)\n",
    "\n",
    "for epoch in range(epochs):\n",
    "    for data in in_data:\n",
    "        optimizer.zero_grad()\n",
    "        pred_out = performance_predictor(in_data)\n",
    "        loss = L1(pred_out, out_data)\n",
    "        loss.backward()\n",
    "        optimizer.step()\n",
    "        loss_nn += loss.item()\n",
    "    if (epoch+1)%log_interval == 0:\n",
    "        print('Epoch: {}'.format(epoch+1))\n",
    "        print('NN Loss: {}'.format(loss_nn/(dataset_size*log_interval)))\n",
    "        loss_nn = 0"
   ]
  }
 ],
 "metadata": {
  "kernelspec": {
   "display_name": "Python 3 (ipykernel)",
   "language": "python",
   "name": "python3"
  },
  "language_info": {
   "codemirror_mode": {
    "name": "ipython",
    "version": 3
   },
   "file_extension": ".py",
   "mimetype": "text/x-python",
   "name": "python",
   "nbconvert_exporter": "python",
   "pygments_lexer": "ipython3",
   "version": "3.8.8"
  }
 },
 "nbformat": 4,
 "nbformat_minor": 5
}
